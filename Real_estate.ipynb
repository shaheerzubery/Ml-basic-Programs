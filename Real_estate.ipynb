{
  "nbformat": 4,
  "nbformat_minor": 0,
  "metadata": {
    "colab": {
      "name": "Real_estate.ipynb",
      "provenance": [],
      "collapsed_sections": [],
      "authorship_tag": "ABX9TyNeklf7tulAF6QiwwGeGLC9",
      "include_colab_link": true
    },
    "kernelspec": {
      "name": "python3",
      "display_name": "Python 3"
    },
    "language_info": {
      "name": "python"
    }
  },
  "cells": [
    {
      "cell_type": "markdown",
      "metadata": {
        "id": "view-in-github",
        "colab_type": "text"
      },
      "source": [
        "<a href=\"https://colab.research.google.com/github/shaheerzubery/Ml-basic-Programs/blob/main/Real_estate.ipynb\" target=\"_parent\"><img src=\"https://colab.research.google.com/assets/colab-badge.svg\" alt=\"Open In Colab\"/></a>"
      ]
    },
    {
      "cell_type": "markdown",
      "source": [
        "# Using Real Estate data and Apply Machine Learning"
      ],
      "metadata": {
        "id": "cIDaxevz8riu"
      }
    },
    {
      "cell_type": "code",
      "execution_count": null,
      "metadata": {
        "colab": {
          "base_uri": "https://localhost:8080/",
          "height": 206
        },
        "id": "7NFqXvBo8lBv",
        "outputId": "56f92850-0472-43f5-e425-0e02ad38716b"
      },
      "outputs": [
        {
          "output_type": "execute_result",
          "data": {
            "text/plain": [
              "   transaction_date  house_age  transit_distance  local_convenience_stores  \\\n",
              "0          2012.917       32.0          84.87882                        10   \n",
              "1          2012.917       19.5         306.59470                         9   \n",
              "2          2013.583       13.3         561.98450                         5   \n",
              "3          2013.500       13.3         561.98450                         5   \n",
              "4          2012.833        5.0         390.56840                         5   \n",
              "\n",
              "   latitude  longitude  price_per_unit  \n",
              "0  24.98298  121.54024            37.9  \n",
              "1  24.98034  121.53951            42.2  \n",
              "2  24.98746  121.54391            47.3  \n",
              "3  24.98746  121.54391            54.8  \n",
              "4  24.97937  121.54245            43.1  "
            ],
            "text/html": [
              "\n",
              "  <div id=\"df-bbb07d42-440b-4aab-8b8d-6439ff068cea\">\n",
              "    <div class=\"colab-df-container\">\n",
              "      <div>\n",
              "<style scoped>\n",
              "    .dataframe tbody tr th:only-of-type {\n",
              "        vertical-align: middle;\n",
              "    }\n",
              "\n",
              "    .dataframe tbody tr th {\n",
              "        vertical-align: top;\n",
              "    }\n",
              "\n",
              "    .dataframe thead th {\n",
              "        text-align: right;\n",
              "    }\n",
              "</style>\n",
              "<table border=\"1\" class=\"dataframe\">\n",
              "  <thead>\n",
              "    <tr style=\"text-align: right;\">\n",
              "      <th></th>\n",
              "      <th>transaction_date</th>\n",
              "      <th>house_age</th>\n",
              "      <th>transit_distance</th>\n",
              "      <th>local_convenience_stores</th>\n",
              "      <th>latitude</th>\n",
              "      <th>longitude</th>\n",
              "      <th>price_per_unit</th>\n",
              "    </tr>\n",
              "  </thead>\n",
              "  <tbody>\n",
              "    <tr>\n",
              "      <th>0</th>\n",
              "      <td>2012.917</td>\n",
              "      <td>32.0</td>\n",
              "      <td>84.87882</td>\n",
              "      <td>10</td>\n",
              "      <td>24.98298</td>\n",
              "      <td>121.54024</td>\n",
              "      <td>37.9</td>\n",
              "    </tr>\n",
              "    <tr>\n",
              "      <th>1</th>\n",
              "      <td>2012.917</td>\n",
              "      <td>19.5</td>\n",
              "      <td>306.59470</td>\n",
              "      <td>9</td>\n",
              "      <td>24.98034</td>\n",
              "      <td>121.53951</td>\n",
              "      <td>42.2</td>\n",
              "    </tr>\n",
              "    <tr>\n",
              "      <th>2</th>\n",
              "      <td>2013.583</td>\n",
              "      <td>13.3</td>\n",
              "      <td>561.98450</td>\n",
              "      <td>5</td>\n",
              "      <td>24.98746</td>\n",
              "      <td>121.54391</td>\n",
              "      <td>47.3</td>\n",
              "    </tr>\n",
              "    <tr>\n",
              "      <th>3</th>\n",
              "      <td>2013.500</td>\n",
              "      <td>13.3</td>\n",
              "      <td>561.98450</td>\n",
              "      <td>5</td>\n",
              "      <td>24.98746</td>\n",
              "      <td>121.54391</td>\n",
              "      <td>54.8</td>\n",
              "    </tr>\n",
              "    <tr>\n",
              "      <th>4</th>\n",
              "      <td>2012.833</td>\n",
              "      <td>5.0</td>\n",
              "      <td>390.56840</td>\n",
              "      <td>5</td>\n",
              "      <td>24.97937</td>\n",
              "      <td>121.54245</td>\n",
              "      <td>43.1</td>\n",
              "    </tr>\n",
              "  </tbody>\n",
              "</table>\n",
              "</div>\n",
              "      <button class=\"colab-df-convert\" onclick=\"convertToInteractive('df-bbb07d42-440b-4aab-8b8d-6439ff068cea')\"\n",
              "              title=\"Convert this dataframe to an interactive table.\"\n",
              "              style=\"display:none;\">\n",
              "        \n",
              "  <svg xmlns=\"http://www.w3.org/2000/svg\" height=\"24px\"viewBox=\"0 0 24 24\"\n",
              "       width=\"24px\">\n",
              "    <path d=\"M0 0h24v24H0V0z\" fill=\"none\"/>\n",
              "    <path d=\"M18.56 5.44l.94 2.06.94-2.06 2.06-.94-2.06-.94-.94-2.06-.94 2.06-2.06.94zm-11 1L8.5 8.5l.94-2.06 2.06-.94-2.06-.94L8.5 2.5l-.94 2.06-2.06.94zm10 10l.94 2.06.94-2.06 2.06-.94-2.06-.94-.94-2.06-.94 2.06-2.06.94z\"/><path d=\"M17.41 7.96l-1.37-1.37c-.4-.4-.92-.59-1.43-.59-.52 0-1.04.2-1.43.59L10.3 9.45l-7.72 7.72c-.78.78-.78 2.05 0 2.83L4 21.41c.39.39.9.59 1.41.59.51 0 1.02-.2 1.41-.59l7.78-7.78 2.81-2.81c.8-.78.8-2.07 0-2.86zM5.41 20L4 18.59l7.72-7.72 1.47 1.35L5.41 20z\"/>\n",
              "  </svg>\n",
              "      </button>\n",
              "      \n",
              "  <style>\n",
              "    .colab-df-container {\n",
              "      display:flex;\n",
              "      flex-wrap:wrap;\n",
              "      gap: 12px;\n",
              "    }\n",
              "\n",
              "    .colab-df-convert {\n",
              "      background-color: #E8F0FE;\n",
              "      border: none;\n",
              "      border-radius: 50%;\n",
              "      cursor: pointer;\n",
              "      display: none;\n",
              "      fill: #1967D2;\n",
              "      height: 32px;\n",
              "      padding: 0 0 0 0;\n",
              "      width: 32px;\n",
              "    }\n",
              "\n",
              "    .colab-df-convert:hover {\n",
              "      background-color: #E2EBFA;\n",
              "      box-shadow: 0px 1px 2px rgba(60, 64, 67, 0.3), 0px 1px 3px 1px rgba(60, 64, 67, 0.15);\n",
              "      fill: #174EA6;\n",
              "    }\n",
              "\n",
              "    [theme=dark] .colab-df-convert {\n",
              "      background-color: #3B4455;\n",
              "      fill: #D2E3FC;\n",
              "    }\n",
              "\n",
              "    [theme=dark] .colab-df-convert:hover {\n",
              "      background-color: #434B5C;\n",
              "      box-shadow: 0px 1px 3px 1px rgba(0, 0, 0, 0.15);\n",
              "      filter: drop-shadow(0px 1px 2px rgba(0, 0, 0, 0.3));\n",
              "      fill: #FFFFFF;\n",
              "    }\n",
              "  </style>\n",
              "\n",
              "      <script>\n",
              "        const buttonEl =\n",
              "          document.querySelector('#df-bbb07d42-440b-4aab-8b8d-6439ff068cea button.colab-df-convert');\n",
              "        buttonEl.style.display =\n",
              "          google.colab.kernel.accessAllowed ? 'block' : 'none';\n",
              "\n",
              "        async function convertToInteractive(key) {\n",
              "          const element = document.querySelector('#df-bbb07d42-440b-4aab-8b8d-6439ff068cea');\n",
              "          const dataTable =\n",
              "            await google.colab.kernel.invokeFunction('convertToInteractive',\n",
              "                                                     [key], {});\n",
              "          if (!dataTable) return;\n",
              "\n",
              "          const docLinkHtml = 'Like what you see? Visit the ' +\n",
              "            '<a target=\"_blank\" href=https://colab.research.google.com/notebooks/data_table.ipynb>data table notebook</a>'\n",
              "            + ' to learn more about interactive tables.';\n",
              "          element.innerHTML = '';\n",
              "          dataTable['output_type'] = 'display_data';\n",
              "          await google.colab.output.renderOutput(dataTable, element);\n",
              "          const docLink = document.createElement('div');\n",
              "          docLink.innerHTML = docLinkHtml;\n",
              "          element.appendChild(docLink);\n",
              "        }\n",
              "      </script>\n",
              "    </div>\n",
              "  </div>\n",
              "  "
            ]
          },
          "metadata": {},
          "execution_count": 1
        }
      ],
      "source": [
        "import pandas as pd\n",
        "Real_estate = pd.read_csv(\"/content/real_estate.csv\")\n",
        "Real_estate.head()"
      ]
    },
    {
      "cell_type": "code",
      "source": [
        "numeric_features = [\"latitude\", \"longitude\"]\n",
        "Real_estate[numeric_features + ['price_per_unit']].describe()"
      ],
      "metadata": {
        "colab": {
          "base_uri": "https://localhost:8080/",
          "height": 300
        },
        "id": "NyGsW4uu9kwM",
        "outputId": "425f73e5-ae26-4e38-e108-05133e83f684"
      },
      "execution_count": null,
      "outputs": [
        {
          "output_type": "execute_result",
          "data": {
            "text/plain": [
              "         latitude   longitude  price_per_unit\n",
              "count  414.000000  414.000000      414.000000\n",
              "mean    24.969030  121.533361       37.980193\n",
              "std      0.012410    0.015347       13.606488\n",
              "min     24.932070  121.473530        7.600000\n",
              "25%     24.963000  121.528085       27.700000\n",
              "50%     24.971100  121.538630       38.450000\n",
              "75%     24.977455  121.543305       46.600000\n",
              "max     25.014590  121.566270      117.500000"
            ],
            "text/html": [
              "\n",
              "  <div id=\"df-b5ef6b1f-44ba-4f7f-a322-9c84abb07594\">\n",
              "    <div class=\"colab-df-container\">\n",
              "      <div>\n",
              "<style scoped>\n",
              "    .dataframe tbody tr th:only-of-type {\n",
              "        vertical-align: middle;\n",
              "    }\n",
              "\n",
              "    .dataframe tbody tr th {\n",
              "        vertical-align: top;\n",
              "    }\n",
              "\n",
              "    .dataframe thead th {\n",
              "        text-align: right;\n",
              "    }\n",
              "</style>\n",
              "<table border=\"1\" class=\"dataframe\">\n",
              "  <thead>\n",
              "    <tr style=\"text-align: right;\">\n",
              "      <th></th>\n",
              "      <th>latitude</th>\n",
              "      <th>longitude</th>\n",
              "      <th>price_per_unit</th>\n",
              "    </tr>\n",
              "  </thead>\n",
              "  <tbody>\n",
              "    <tr>\n",
              "      <th>count</th>\n",
              "      <td>414.000000</td>\n",
              "      <td>414.000000</td>\n",
              "      <td>414.000000</td>\n",
              "    </tr>\n",
              "    <tr>\n",
              "      <th>mean</th>\n",
              "      <td>24.969030</td>\n",
              "      <td>121.533361</td>\n",
              "      <td>37.980193</td>\n",
              "    </tr>\n",
              "    <tr>\n",
              "      <th>std</th>\n",
              "      <td>0.012410</td>\n",
              "      <td>0.015347</td>\n",
              "      <td>13.606488</td>\n",
              "    </tr>\n",
              "    <tr>\n",
              "      <th>min</th>\n",
              "      <td>24.932070</td>\n",
              "      <td>121.473530</td>\n",
              "      <td>7.600000</td>\n",
              "    </tr>\n",
              "    <tr>\n",
              "      <th>25%</th>\n",
              "      <td>24.963000</td>\n",
              "      <td>121.528085</td>\n",
              "      <td>27.700000</td>\n",
              "    </tr>\n",
              "    <tr>\n",
              "      <th>50%</th>\n",
              "      <td>24.971100</td>\n",
              "      <td>121.538630</td>\n",
              "      <td>38.450000</td>\n",
              "    </tr>\n",
              "    <tr>\n",
              "      <th>75%</th>\n",
              "      <td>24.977455</td>\n",
              "      <td>121.543305</td>\n",
              "      <td>46.600000</td>\n",
              "    </tr>\n",
              "    <tr>\n",
              "      <th>max</th>\n",
              "      <td>25.014590</td>\n",
              "      <td>121.566270</td>\n",
              "      <td>117.500000</td>\n",
              "    </tr>\n",
              "  </tbody>\n",
              "</table>\n",
              "</div>\n",
              "      <button class=\"colab-df-convert\" onclick=\"convertToInteractive('df-b5ef6b1f-44ba-4f7f-a322-9c84abb07594')\"\n",
              "              title=\"Convert this dataframe to an interactive table.\"\n",
              "              style=\"display:none;\">\n",
              "        \n",
              "  <svg xmlns=\"http://www.w3.org/2000/svg\" height=\"24px\"viewBox=\"0 0 24 24\"\n",
              "       width=\"24px\">\n",
              "    <path d=\"M0 0h24v24H0V0z\" fill=\"none\"/>\n",
              "    <path d=\"M18.56 5.44l.94 2.06.94-2.06 2.06-.94-2.06-.94-.94-2.06-.94 2.06-2.06.94zm-11 1L8.5 8.5l.94-2.06 2.06-.94-2.06-.94L8.5 2.5l-.94 2.06-2.06.94zm10 10l.94 2.06.94-2.06 2.06-.94-2.06-.94-.94-2.06-.94 2.06-2.06.94z\"/><path d=\"M17.41 7.96l-1.37-1.37c-.4-.4-.92-.59-1.43-.59-.52 0-1.04.2-1.43.59L10.3 9.45l-7.72 7.72c-.78.78-.78 2.05 0 2.83L4 21.41c.39.39.9.59 1.41.59.51 0 1.02-.2 1.41-.59l7.78-7.78 2.81-2.81c.8-.78.8-2.07 0-2.86zM5.41 20L4 18.59l7.72-7.72 1.47 1.35L5.41 20z\"/>\n",
              "  </svg>\n",
              "      </button>\n",
              "      \n",
              "  <style>\n",
              "    .colab-df-container {\n",
              "      display:flex;\n",
              "      flex-wrap:wrap;\n",
              "      gap: 12px;\n",
              "    }\n",
              "\n",
              "    .colab-df-convert {\n",
              "      background-color: #E8F0FE;\n",
              "      border: none;\n",
              "      border-radius: 50%;\n",
              "      cursor: pointer;\n",
              "      display: none;\n",
              "      fill: #1967D2;\n",
              "      height: 32px;\n",
              "      padding: 0 0 0 0;\n",
              "      width: 32px;\n",
              "    }\n",
              "\n",
              "    .colab-df-convert:hover {\n",
              "      background-color: #E2EBFA;\n",
              "      box-shadow: 0px 1px 2px rgba(60, 64, 67, 0.3), 0px 1px 3px 1px rgba(60, 64, 67, 0.15);\n",
              "      fill: #174EA6;\n",
              "    }\n",
              "\n",
              "    [theme=dark] .colab-df-convert {\n",
              "      background-color: #3B4455;\n",
              "      fill: #D2E3FC;\n",
              "    }\n",
              "\n",
              "    [theme=dark] .colab-df-convert:hover {\n",
              "      background-color: #434B5C;\n",
              "      box-shadow: 0px 1px 3px 1px rgba(0, 0, 0, 0.15);\n",
              "      filter: drop-shadow(0px 1px 2px rgba(0, 0, 0, 0.3));\n",
              "      fill: #FFFFFF;\n",
              "    }\n",
              "  </style>\n",
              "\n",
              "      <script>\n",
              "        const buttonEl =\n",
              "          document.querySelector('#df-b5ef6b1f-44ba-4f7f-a322-9c84abb07594 button.colab-df-convert');\n",
              "        buttonEl.style.display =\n",
              "          google.colab.kernel.accessAllowed ? 'block' : 'none';\n",
              "\n",
              "        async function convertToInteractive(key) {\n",
              "          const element = document.querySelector('#df-b5ef6b1f-44ba-4f7f-a322-9c84abb07594');\n",
              "          const dataTable =\n",
              "            await google.colab.kernel.invokeFunction('convertToInteractive',\n",
              "                                                     [key], {});\n",
              "          if (!dataTable) return;\n",
              "\n",
              "          const docLinkHtml = 'Like what you see? Visit the ' +\n",
              "            '<a target=\"_blank\" href=https://colab.research.google.com/notebooks/data_table.ipynb>data table notebook</a>'\n",
              "            + ' to learn more about interactive tables.';\n",
              "          element.innerHTML = '';\n",
              "          dataTable['output_type'] = 'display_data';\n",
              "          await google.colab.output.renderOutput(dataTable, element);\n",
              "          const docLink = document.createElement('div');\n",
              "          docLink.innerHTML = docLinkHtml;\n",
              "          element.appendChild(docLink);\n",
              "        }\n",
              "      </script>\n",
              "    </div>\n",
              "  </div>\n",
              "  "
            ]
          },
          "metadata": {},
          "execution_count": 2
        }
      ]
    },
    {
      "cell_type": "code",
      "source": [
        "categorical_data = [\"house_age\",\"transit_distance\",\t\"local_convenience_stores\"\t]\n",
        "Real_estate[categorical_data].describe()"
      ],
      "metadata": {
        "colab": {
          "base_uri": "https://localhost:8080/",
          "height": 300
        },
        "id": "3qdQP8bl_Zm7",
        "outputId": "c1992976-8077-4418-dbd8-43151da5a950"
      },
      "execution_count": null,
      "outputs": [
        {
          "output_type": "execute_result",
          "data": {
            "text/plain": [
              "        house_age  transit_distance  local_convenience_stores\n",
              "count  414.000000        414.000000                414.000000\n",
              "mean    17.712560       1083.885689                  4.094203\n",
              "std     11.392485       1262.109595                  2.945562\n",
              "min      0.000000         23.382840                  0.000000\n",
              "25%      9.025000        289.324800                  1.000000\n",
              "50%     16.100000        492.231300                  4.000000\n",
              "75%     28.150000       1454.279000                  6.000000\n",
              "max     43.800000       6488.021000                 10.000000"
            ],
            "text/html": [
              "\n",
              "  <div id=\"df-f392fd72-f27a-476c-a7a3-3a06edc5a699\">\n",
              "    <div class=\"colab-df-container\">\n",
              "      <div>\n",
              "<style scoped>\n",
              "    .dataframe tbody tr th:only-of-type {\n",
              "        vertical-align: middle;\n",
              "    }\n",
              "\n",
              "    .dataframe tbody tr th {\n",
              "        vertical-align: top;\n",
              "    }\n",
              "\n",
              "    .dataframe thead th {\n",
              "        text-align: right;\n",
              "    }\n",
              "</style>\n",
              "<table border=\"1\" class=\"dataframe\">\n",
              "  <thead>\n",
              "    <tr style=\"text-align: right;\">\n",
              "      <th></th>\n",
              "      <th>house_age</th>\n",
              "      <th>transit_distance</th>\n",
              "      <th>local_convenience_stores</th>\n",
              "    </tr>\n",
              "  </thead>\n",
              "  <tbody>\n",
              "    <tr>\n",
              "      <th>count</th>\n",
              "      <td>414.000000</td>\n",
              "      <td>414.000000</td>\n",
              "      <td>414.000000</td>\n",
              "    </tr>\n",
              "    <tr>\n",
              "      <th>mean</th>\n",
              "      <td>17.712560</td>\n",
              "      <td>1083.885689</td>\n",
              "      <td>4.094203</td>\n",
              "    </tr>\n",
              "    <tr>\n",
              "      <th>std</th>\n",
              "      <td>11.392485</td>\n",
              "      <td>1262.109595</td>\n",
              "      <td>2.945562</td>\n",
              "    </tr>\n",
              "    <tr>\n",
              "      <th>min</th>\n",
              "      <td>0.000000</td>\n",
              "      <td>23.382840</td>\n",
              "      <td>0.000000</td>\n",
              "    </tr>\n",
              "    <tr>\n",
              "      <th>25%</th>\n",
              "      <td>9.025000</td>\n",
              "      <td>289.324800</td>\n",
              "      <td>1.000000</td>\n",
              "    </tr>\n",
              "    <tr>\n",
              "      <th>50%</th>\n",
              "      <td>16.100000</td>\n",
              "      <td>492.231300</td>\n",
              "      <td>4.000000</td>\n",
              "    </tr>\n",
              "    <tr>\n",
              "      <th>75%</th>\n",
              "      <td>28.150000</td>\n",
              "      <td>1454.279000</td>\n",
              "      <td>6.000000</td>\n",
              "    </tr>\n",
              "    <tr>\n",
              "      <th>max</th>\n",
              "      <td>43.800000</td>\n",
              "      <td>6488.021000</td>\n",
              "      <td>10.000000</td>\n",
              "    </tr>\n",
              "  </tbody>\n",
              "</table>\n",
              "</div>\n",
              "      <button class=\"colab-df-convert\" onclick=\"convertToInteractive('df-f392fd72-f27a-476c-a7a3-3a06edc5a699')\"\n",
              "              title=\"Convert this dataframe to an interactive table.\"\n",
              "              style=\"display:none;\">\n",
              "        \n",
              "  <svg xmlns=\"http://www.w3.org/2000/svg\" height=\"24px\"viewBox=\"0 0 24 24\"\n",
              "       width=\"24px\">\n",
              "    <path d=\"M0 0h24v24H0V0z\" fill=\"none\"/>\n",
              "    <path d=\"M18.56 5.44l.94 2.06.94-2.06 2.06-.94-2.06-.94-.94-2.06-.94 2.06-2.06.94zm-11 1L8.5 8.5l.94-2.06 2.06-.94-2.06-.94L8.5 2.5l-.94 2.06-2.06.94zm10 10l.94 2.06.94-2.06 2.06-.94-2.06-.94-.94-2.06-.94 2.06-2.06.94z\"/><path d=\"M17.41 7.96l-1.37-1.37c-.4-.4-.92-.59-1.43-.59-.52 0-1.04.2-1.43.59L10.3 9.45l-7.72 7.72c-.78.78-.78 2.05 0 2.83L4 21.41c.39.39.9.59 1.41.59.51 0 1.02-.2 1.41-.59l7.78-7.78 2.81-2.81c.8-.78.8-2.07 0-2.86zM5.41 20L4 18.59l7.72-7.72 1.47 1.35L5.41 20z\"/>\n",
              "  </svg>\n",
              "      </button>\n",
              "      \n",
              "  <style>\n",
              "    .colab-df-container {\n",
              "      display:flex;\n",
              "      flex-wrap:wrap;\n",
              "      gap: 12px;\n",
              "    }\n",
              "\n",
              "    .colab-df-convert {\n",
              "      background-color: #E8F0FE;\n",
              "      border: none;\n",
              "      border-radius: 50%;\n",
              "      cursor: pointer;\n",
              "      display: none;\n",
              "      fill: #1967D2;\n",
              "      height: 32px;\n",
              "      padding: 0 0 0 0;\n",
              "      width: 32px;\n",
              "    }\n",
              "\n",
              "    .colab-df-convert:hover {\n",
              "      background-color: #E2EBFA;\n",
              "      box-shadow: 0px 1px 2px rgba(60, 64, 67, 0.3), 0px 1px 3px 1px rgba(60, 64, 67, 0.15);\n",
              "      fill: #174EA6;\n",
              "    }\n",
              "\n",
              "    [theme=dark] .colab-df-convert {\n",
              "      background-color: #3B4455;\n",
              "      fill: #D2E3FC;\n",
              "    }\n",
              "\n",
              "    [theme=dark] .colab-df-convert:hover {\n",
              "      background-color: #434B5C;\n",
              "      box-shadow: 0px 1px 3px 1px rgba(0, 0, 0, 0.15);\n",
              "      filter: drop-shadow(0px 1px 2px rgba(0, 0, 0, 0.3));\n",
              "      fill: #FFFFFF;\n",
              "    }\n",
              "  </style>\n",
              "\n",
              "      <script>\n",
              "        const buttonEl =\n",
              "          document.querySelector('#df-f392fd72-f27a-476c-a7a3-3a06edc5a699 button.colab-df-convert');\n",
              "        buttonEl.style.display =\n",
              "          google.colab.kernel.accessAllowed ? 'block' : 'none';\n",
              "\n",
              "        async function convertToInteractive(key) {\n",
              "          const element = document.querySelector('#df-f392fd72-f27a-476c-a7a3-3a06edc5a699');\n",
              "          const dataTable =\n",
              "            await google.colab.kernel.invokeFunction('convertToInteractive',\n",
              "                                                     [key], {});\n",
              "          if (!dataTable) return;\n",
              "\n",
              "          const docLinkHtml = 'Like what you see? Visit the ' +\n",
              "            '<a target=\"_blank\" href=https://colab.research.google.com/notebooks/data_table.ipynb>data table notebook</a>'\n",
              "            + ' to learn more about interactive tables.';\n",
              "          element.innerHTML = '';\n",
              "          dataTable['output_type'] = 'display_data';\n",
              "          await google.colab.output.renderOutput(dataTable, element);\n",
              "          const docLink = document.createElement('div');\n",
              "          docLink.innerHTML = docLinkHtml;\n",
              "          element.appendChild(docLink);\n",
              "        }\n",
              "      </script>\n",
              "    </div>\n",
              "  </div>\n",
              "  "
            ]
          },
          "metadata": {},
          "execution_count": 3
        }
      ]
    },
    {
      "cell_type": "code",
      "source": [
        "import matplotlib.pyplot as plt\n",
        "\n",
        "%matplotlib inline\n",
        "\n",
        "\n",
        "for col in numeric_features:\n",
        "    fig = plt.figure(figsize =(9,6) )\n",
        "    ax = fig.gca()\n",
        "    features = Real_estate[col]\n",
        "    features.hist(ax = ax , bins = 100)\n",
        "    ax.axvline(features.mean(), color=\"yellow\", linestyle = \"dashed\", linewidth = 2)\n",
        "    ax.axvline(features.median(), color = \"black\", linestyle = \"dashed\", linewidth = 2)\n",
        "    ax.set_title(\"Commulative data\")\n",
        "plt.show()"
      ],
      "metadata": {
        "colab": {
          "base_uri": "https://localhost:8080/",
          "height": 763
        },
        "id": "LekHl7S4_5ew",
        "outputId": "e5b4ef13-69e0-4ca9-a432-4a1c79215691"
      },
      "execution_count": null,
      "outputs": [
        {
          "output_type": "display_data",
          "data": {
            "text/plain": [
              "<Figure size 648x432 with 1 Axes>"
            ],
            "image/png": "[encoded data removed]"
          },
          "metadata": {
            "needs_background": "light"
          }
        },
        {
          "output_type": "display_data",
          "data": {
            "text/plain": [
              "<Figure size 648x432 with 1 Axes>"
            ],
            "image/png": "[encoded data removed]"
          },
          "metadata": {
            "needs_background": "light"
          }
        }
      ]
    },
    {
      "cell_type": "code",
      "source": [
        "for col in categorical_data:\n",
        "    fig = plt.figure(figsize = (9,7))\n",
        "    ax = fig.gca()\n",
        "    features = Real_estate[col]\n",
        "    features.hist(ax = ax, bins = 100)\n",
        "    ax.axvline(features.mean(), color = \"yellow\", linestyle = \"dashed\", linewidth = 2)\n",
        "    ax.axvline(features.median(), color = \"pink\", linestyle = \"dashed\", linewidth = 2)\n",
        "    ax.set_title(\"Catg data Commulative\")\n",
        "\n",
        "plt.show()\n",
        "\n",
        "\n"
      ],
      "metadata": {
        "colab": {
          "base_uri": "https://localhost:8080/",
          "height": 1000
        },
        "id": "g6kYenWuBTYv",
        "outputId": "8d70a190-a579-4f38-da0f-d26393a75457"
      },
      "execution_count": null,
      "outputs": [
        {
          "output_type": "display_data",
          "data": {
            "text/plain": [
              "<Figure size 648x504 with 1 Axes>"
            ],
            "image/png": "[encoded data removed]"
          },
          "metadata": {
            "needs_background": "light"
          }
        },
        {
          "output_type": "display_data",
          "data": {
            "text/plain": [
              "<Figure size 648x504 with 1 Axes>"
            ],
            "image/png": "[encoded data removed]"
          },
          "metadata": {
            "needs_background": "light"
          }
        },
        {
          "output_type": "display_data",
          "data": {
            "text/plain": [
              "<Figure size 648x504 with 1 Axes>"
            ],
            "image/png": "[encoded data removed]"
          },
          "metadata": {
            "needs_background": "light"
          }
        }
      ]
    },
    {
      "cell_type": "code",
      "source": [
        "for col in numeric_features:\n",
        "    fig = plt.figure(figsize = (9,5))\n",
        "    ax = fig.gca()\n",
        "    feature = Real_estate[col]\n",
        "    plt.xlabel(col)\n",
        "    plt.ylabel('price_per_unit')\n",
        "    label = Real_estate['price_per_unit']\n",
        "    correlation = feature.corr(label)\n",
        "    ax.set_title(\"commulative Real Estate\" + col + str(correlation))\n",
        "    \n",
        "    \n",
        "\n",
        "    plt.scatter(x = feature,y = label)\n",
        "plt.show()\n",
        "\n"
      ],
      "metadata": {
        "colab": {
          "base_uri": "https://localhost:8080/",
          "height": 683
        },
        "id": "PSVLKYd-HhSF",
        "outputId": "81d7edeb-2e8d-4f37-9dfa-97e7fdc53af6"
      },
      "execution_count": null,
      "outputs": [
        {
          "output_type": "display_data",
          "data": {
            "text/plain": [
              "<Figure size 648x360 with 1 Axes>"
            ],
            "image/png": "[encoded data removed]"
          },
          "metadata": {
            "needs_background": "light"
          }
        },
        {
          "output_type": "display_data",
          "data": {
            "text/plain": [
              "<Figure size 648x360 with 1 Axes>"
            ],
            "image/png": "[encoded data removed]"
          },
          "metadata": {
            "needs_background": "light"
          }
        }
      ]
    },
    {
      "cell_type": "code",
      "source": [
        "for col in categorical_data:\n",
        "    fig = plt.figure(figsize = (9,4))\n",
        "    \n",
        "    feature = Real_estate[col]\n",
        "    ax = fig.gca()\n",
        "    plt.xlabel(col)\n",
        "    plt.ylabel(\"Price_per_unit\")\n",
        "    label = Real_estate[\"price_per_unit\"]\n",
        "    correlation = feature.corr(label)\n",
        "    ax.set_title(\"commulative Real Estate\" + col + str(correlation))\n",
        "    plt.scatter(x = feature,y =label)\n",
        "    \n",
        "plt.show()"
      ],
      "metadata": {
        "colab": {
          "base_uri": "https://localhost:8080/",
          "height": 854
        },
        "id": "GavJ__6QKNGA",
        "outputId": "569b542b-bb99-4f35-d5ed-f75f658a0254"
      },
      "execution_count": null,
      "outputs": [
        {
          "output_type": "display_data",
          "data": {
            "text/plain": [
              "<Figure size 648x288 with 1 Axes>"
            ],
            "image/png": "[encoded data removed]"
          },
          "metadata": {
            "needs_background": "light"
          }
        },
        {
          "output_type": "display_data",
          "data": {
            "text/plain": [
              "<Figure size 648x288 with 1 Axes>"
            ],
            "image/png": "[encoded data removed]"
          },
          "metadata": {
            "needs_background": "light"
          }
        },
        {
          "output_type": "display_data",
          "data": {
            "text/plain": [
              "<Figure size 648x288 with 1 Axes>"
            ],
            "image/png": "[encoded data removed]"
          },
          "metadata": {
            "needs_background": "light"
          }
        }
      ]
    },
    {
      "cell_type": "markdown",
      "source": [
        "Apply Linear Rregression model\n"
      ],
      "metadata": {
        "id": "zi13KTqqSzQm"
      }
    },
    {
      "cell_type": "code",
      "source": [
        "#seperate label and features\n",
        "x,y = Real_estate[['house_age','transit_distance','local_convenience_stores','latitude','longitude']].values,Real_estate['price_per_unit'].values\n",
        "print(\"features:\" , x[:10], \"label: \", y[:10])"
      ],
      "metadata": {
        "colab": {
          "base_uri": "https://localhost:8080/"
        },
        "id": "8nzshWaFRm9E",
        "outputId": "635d6a7b-0292-4092-b38c-0a2fb76eb615"
      },
      "execution_count": null,
      "outputs": [
        {
          "output_type": "stream",
          "name": "stdout",
          "text": [
            "features: [[3.2000000e+01 8.4878820e+01 1.0000000e+01 2.4982980e+01 1.2154024e+02]\n",
            " [1.9500000e+01 3.0659470e+02 9.0000000e+00 2.4980340e+01 1.2153951e+02]\n",
            " [1.3300000e+01 5.6198450e+02 5.0000000e+00 2.4987460e+01 1.2154391e+02]\n",
            " [1.3300000e+01 5.6198450e+02 5.0000000e+00 2.4987460e+01 1.2154391e+02]\n",
            " [5.0000000e+00 3.9056840e+02 5.0000000e+00 2.4979370e+01 1.2154245e+02]\n",
            " [7.1000000e+00 2.1750300e+03 3.0000000e+00 2.4963050e+01 1.2151254e+02]\n",
            " [3.4500000e+01 6.2347310e+02 7.0000000e+00 2.4979330e+01 1.2153642e+02]\n",
            " [2.0300000e+01 2.8760250e+02 6.0000000e+00 2.4980420e+01 1.2154228e+02]\n",
            " [3.1700000e+01 5.5120380e+03 1.0000000e+00 2.4950950e+01 1.2148458e+02]\n",
            " [1.7900000e+01 1.7831800e+03 3.0000000e+00 2.4967310e+01 1.2151486e+02]] label:  [37.9 42.2 47.3 54.8 43.1 32.1 40.3 46.7 18.8 22.1]\n"
          ]
        }
      ]
    },
    {
      "cell_type": "code",
      "source": [
        "from sklearn.model_selection import train_test_split\n",
        "x_train,x_test,y_train,y_test = train_test_split(x,y,test_size=0.20, random_state = 0)\n",
        "print(\"total train value\", x_train.shape[0], \"Total test value : \", x_test.shape[0])\n"
      ],
      "metadata": {
        "colab": {
          "base_uri": "https://localhost:8080/"
        },
        "id": "vq117XKBT6y1",
        "outputId": "954b5ace-c993-4e33-9335-37e40123b7a4"
      },
      "execution_count": null,
      "outputs": [
        {
          "output_type": "stream",
          "name": "stdout",
          "text": [
            "total train value 331 Total test value :  83\n"
          ]
        }
      ]
    },
    {
      "cell_type": "code",
      "source": [
        "from sklearn.linear_model import LinearRegression\n",
        "model = LinearRegression().fit(x_train,y_train)\n",
        "print(model)"
      ],
      "metadata": {
        "colab": {
          "base_uri": "https://localhost:8080/"
        },
        "id": "rMQA5lawUr0T",
        "outputId": "a25975e8-7d7e-4d04-acba-e6a8f187484f"
      },
      "execution_count": null,
      "outputs": [
        {
          "output_type": "stream",
          "name": "stdout",
          "text": [
            "LinearRegression()\n"
          ]
        }
      ]
    },
    {
      "cell_type": "code",
      "source": [
        "from sklearn.metrics import mean_squared_error,r2_score\n",
        "import numpy as np\n",
        "\n",
        "prediction = model.predict(x_test)\n",
        "print(\"predicted :\", np.round(prediction[:10]))\n",
        "print(\"Actual:\", y_test[:10])\n",
        "\n",
        "mse = mean_squared_error(y_test,prediction)\n",
        "print(\"mse:\" , mse)\n",
        "\n",
        "rmse = np.sqrt(mse)\n",
        "print(\"rmse: \", rmse)\n",
        "\n",
        "\n",
        "r2 = r2_score(y_test,prediction)\n",
        "print(\"r2: \",r2)\n",
        "\n",
        "plt.scatter(y_test, prediction)\n",
        "plt.xlabel('Actual Labels')\n",
        "plt.ylabel('Predicted Labels')\n",
        "plt.title('Real Estate Predictions')\n",
        "# overlay the regression line\n",
        "z = np.polyfit(y_test, prediction, 1)\n",
        "p = np.poly1d(z)\n",
        "plt.plot(y_test,p(y_test), color='magenta')\n",
        "plt.show()"
      ],
      "metadata": {
        "colab": {
          "base_uri": "https://localhost:8080/",
          "height": 386
        },
        "id": "VKGyyfReVjS-",
        "outputId": "ea415074-adf7-40c9-b52a-c3771cfef25c"
      },
      "execution_count": null,
      "outputs": [
        {
          "output_type": "stream",
          "name": "stdout",
          "text": [
            "predicted : [41. 12. 41. 12. 40. 40. 40. 34. 48. 45.]\n",
            "Actual: [45.3 14.4 46.  15.6 50.2 38.1 48.5 41.4 51.6 40.1]\n",
            "mse: 62.17223562241522\n",
            "rmse:  7.884937261793223\n",
            "r2:  0.6420691483643883\n"
          ]
        },
        {
          "output_type": "display_data",
          "data": {
            "text/plain": [
              "<Figure size 432x288 with 1 Axes>"
            ],
            "image/png": "[encoded data removed]"
          },
          "metadata": {
            "needs_background": "light"
          }
        }
      ]
    },
    {
      "cell_type": "code",
      "source": [
        "from sklearn.tree import DecisionTreeRegressor\n",
        "model2 = DecisionTreeRegressor().fit(x_train,y_train)\n",
        "print(model2)"
      ],
      "metadata": {
        "colab": {
          "base_uri": "https://localhost:8080/"
        },
        "id": "9f7GWGaDWofn",
        "outputId": "8fb77aa2-74a3-4ff6-feef-ba8bf13d5d55"
      },
      "execution_count": null,
      "outputs": [
        {
          "output_type": "stream",
          "name": "stdout",
          "text": [
            "DecisionTreeRegressor()\n"
          ]
        }
      ]
    },
    {
      "cell_type": "code",
      "source": [
        "predict = model2.predict(x_test)\n",
        "print('prediction: ',np.round(predict[:10]))\n",
        "print('actual: ', y_test[:10])"
      ],
      "metadata": {
        "colab": {
          "base_uri": "https://localhost:8080/"
        },
        "id": "jlNKmI_gW_fb",
        "outputId": "09135a2a-e1f7-4c90-f84c-a18c56f46859"
      },
      "execution_count": null,
      "outputs": [
        {
          "output_type": "stream",
          "name": "stdout",
          "text": [
            "prediction:  [118.  22.  39.  22.  29.  37.  41.  35.  48.  42.]\n",
            "actual:  [45.3 14.4 46.  15.6 50.2 38.1 48.5 41.4 51.6 40.1]\n"
          ]
        }
      ]
    },
    {
      "cell_type": "code",
      "source": [
        "mse = mean_squared_error(y_test,predict)\n",
        "print(\"mse:\" , mse)\n",
        "\n",
        "rmse = np.sqrt(mse)\n",
        "print(\"rmse: \", rmse)\n",
        "\n",
        "\n",
        "r2 = r2_score(y_test,predict)\n",
        "print(\"r2: \",r2)"
      ],
      "metadata": {
        "colab": {
          "base_uri": "https://localhost:8080/"
        },
        "id": "1YvagAEBXXOx",
        "outputId": "8a27b09a-1be3-4e49-8c75-eb80a1e4045e"
      },
      "execution_count": null,
      "outputs": [
        {
          "output_type": "stream",
          "name": "stdout",
          "text": [
            "mse: 141.30370565595717\n",
            "rmse:  11.88712352320599\n",
            "r2:  0.18650254091120644\n"
          ]
        }
      ]
    },
    {
      "cell_type": "code",
      "source": [
        "from sklearn.ensemble import RandomForestRegressor\n",
        "model3 = RandomForestRegressor().fit(x_train,y_train)\n",
        "print(model3)\n"
      ],
      "metadata": {
        "colab": {
          "base_uri": "https://localhost:8080/"
        },
        "id": "E1FS81vZXh9k",
        "outputId": "c33a7d58-0329-43f8-cf06-c73985267c0d"
      },
      "execution_count": null,
      "outputs": [
        {
          "output_type": "stream",
          "name": "stdout",
          "text": [
            "RandomForestRegressor()\n"
          ]
        }
      ]
    },
    {
      "cell_type": "code",
      "source": [
        "predict_random = model3.predict(x_test)\n",
        "print(\"prediction: \", np.round(predict_random[:10]))\n",
        "print(\"actual:\", y_test[:10])"
      ],
      "metadata": {
        "colab": {
          "base_uri": "https://localhost:8080/"
        },
        "id": "5D4A7D5yaxi3",
        "outputId": "ecbbb77c-deda-4984-dda1-e73e9527bc81"
      },
      "execution_count": null,
      "outputs": [
        {
          "output_type": "stream",
          "name": "stdout",
          "text": [
            "prediction:  [69. 19. 47. 21. 31. 41. 48. 37. 56. 43.]\n",
            "actual: [45.3 14.4 46.  15.6 50.2 38.1 48.5 41.4 51.6 40.1]\n"
          ]
        }
      ]
    },
    {
      "cell_type": "code",
      "source": [
        "mse = mean_squared_error(y_test,predict_random)\n",
        "print(\"mse:\" , mse)\n",
        "\n",
        "rmse = np.sqrt(mse)\n",
        "print(\"rmse: \", rmse)\n",
        "\n",
        "\n",
        "r2 = r2_score(y_test,predict_random)\n",
        "print(\"r2: \",r2)"
      ],
      "metadata": {
        "colab": {
          "base_uri": "https://localhost:8080/"
        },
        "id": "27l0eilbbG6o",
        "outputId": "db83d00f-9039-44ff-f5f4-4a15a15d6fb2"
      },
      "execution_count": null,
      "outputs": [
        {
          "output_type": "stream",
          "name": "stdout",
          "text": [
            "mse: 55.19172317887256\n",
            "rmse:  7.429113216183514\n",
            "r2:  0.6822565525771684\n"
          ]
        }
      ]
    },
    {
      "cell_type": "code",
      "source": [
        "from sklearn.linear_model import Lasso\n",
        "model4 = Lasso().fit(x_train,y_train)\n",
        "print(model4)"
      ],
      "metadata": {
        "colab": {
          "base_uri": "https://localhost:8080/"
        },
        "id": "twjbKsXEbQJ5",
        "outputId": "2b632178-555c-4388-dfde-6ab3f35f810c"
      },
      "execution_count": null,
      "outputs": [
        {
          "output_type": "stream",
          "name": "stdout",
          "text": [
            "Lasso()\n"
          ]
        }
      ]
    },
    {
      "cell_type": "code",
      "source": [
        "predict_laso = model4.predict(x_test)\n",
        "print(\"prediction: \", np.round(predict_laso[:10]))\n",
        "print(\"actual:\", y_test[:10])"
      ],
      "metadata": {
        "colab": {
          "base_uri": "https://localhost:8080/"
        },
        "id": "eDTi796kbkc8",
        "outputId": "4b7efb4b-b489-4feb-87de-78e202803f3a"
      },
      "execution_count": null,
      "outputs": [
        {
          "output_type": "stream",
          "name": "stdout",
          "text": [
            "prediction:  [42. 13. 40. 12. 41. 41. 42. 35. 47. 43.]\n",
            "actual: [45.3 14.4 46.  15.6 50.2 38.1 48.5 41.4 51.6 40.1]\n"
          ]
        }
      ]
    },
    {
      "cell_type": "code",
      "source": [
        "mse = mean_squared_error(y_test,predict_laso)\n",
        "print(\"mse:\" , mse)\n",
        "\n",
        "rmse = np.sqrt(mse)\n",
        "print(\"rmse: \", rmse)\n",
        "\n",
        "\n",
        "r2 = r2_score(y_test,predict_laso)\n",
        "print(\"r2: \",r2)"
      ],
      "metadata": {
        "colab": {
          "base_uri": "https://localhost:8080/"
        },
        "id": "3CYKaXubbs25",
        "outputId": "7f671b2d-edea-4367-88c2-6f8be531c9e6"
      },
      "execution_count": null,
      "outputs": [
        {
          "output_type": "stream",
          "name": "stdout",
          "text": [
            "mse: 66.32482280717772\n",
            "rmse:  8.144005329515553\n",
            "r2:  0.6181623505364959\n"
          ]
        }
      ]
    },
    {
      "cell_type": "code",
      "source": [
        "plt.scatter(y_test, predict_laso)\n",
        "plt.xlabel('Actual Labels')\n",
        "plt.ylabel('Predicted Labels')\n",
        "plt.title('Real Estate Predictions')\n",
        "# overlay the regression line\n",
        "z = np.polyfit(y_test, predict_laso, 1)\n",
        "p = np.poly1d(z)\n",
        "plt.plot(y_test,p(y_test), color='magenta')\n",
        "plt.show()"
      ],
      "metadata": {
        "colab": {
          "base_uri": "https://localhost:8080/",
          "height": 295
        },
        "id": "3akMr5cZbz7r",
        "outputId": "0d326c29-bc46-4530-ffcf-faa0ec16d184"
      },
      "execution_count": null,
      "outputs": [
        {
          "output_type": "display_data",
          "data": {
            "text/plain": [
              "<Figure size 432x288 with 1 Axes>"
            ],
            "image/png": "[encoded data removed]"
          },
          "metadata": {
            "needs_background": "light"
          }
        }
      ]
    },
    {
      "cell_type": "markdown",
      "source": [
        "**Pipline**"
      ],
      "metadata": {
        "id": "55rx3FHQlog3"
      }
    },
    {
      "cell_type": "code",
      "source": [
        "from sklearn.compose import ColumnTransformer\n",
        "from sklearn.pipeline import Pipeline\n",
        "from sklearn.impute import SimpleImputer\n",
        "from sklearn.preprocessing import StandardScaler, OneHotEncoder\n",
        "from sklearn.linear_model import LinearRegression\n",
        "import numpy as np"
      ],
      "metadata": {
        "id": "MEi6bBfzcIHs"
      },
      "execution_count": null,
      "outputs": []
    },
    {
      "cell_type": "code",
      "source": [
        "# Train the model\n",
        "from sklearn.compose import ColumnTransformer\n",
        "from sklearn.pipeline import Pipeline\n",
        "from sklearn.impute import SimpleImputer\n",
        "from sklearn.preprocessing import StandardScaler, OneHotEncoder\n",
        "from sklearn.linear_model import LinearRegression\n",
        "import numpy as np\n",
        "\n",
        "# Define preprocessing for numeric columns (scale them)\n",
        "numeric_features = [3,4]\n",
        "numeric_transformer = Pipeline(steps=[\n",
        "    ('scaler', StandardScaler())])\n",
        "\n",
        "# Define preprocessing for categorical features (encode them)\n",
        "categorical_features = [0,1,2]\n",
        "categorical_transformer = Pipeline(steps=[\n",
        "    ('onehot', OneHotEncoder(handle_unknown='ignore'))])\n",
        "\n",
        "# Combine preprocessing steps\n",
        "preprocessor = ColumnTransformer(\n",
        "    transformers=[\n",
        "        ('num', numeric_transformer, numeric_features),\n",
        "        ('cat', categorical_transformer, categorical_features)])\n",
        "\n",
        "# Create preprocessing and training pipeline\n",
        "pipeline = Pipeline(steps=[('preprocessor', preprocessor),\n",
        "                           ('regressor', LinearRegression())])\n",
        "\n",
        "\n",
        "# fit the pipeline to train a linear regression model on the training set\n",
        "model = pipeline.fit(x_train, (y_train))\n",
        "print (model)"
      ],
      "metadata": {
        "colab": {
          "base_uri": "https://localhost:8080/"
        },
        "id": "qfOw871ml82N",
        "outputId": "626f3a05-501c-43aa-c13a-f578aee67aa9"
      },
      "execution_count": null,
      "outputs": [
        {
          "output_type": "stream",
          "name": "stdout",
          "text": [
            "Pipeline(steps=[('preprocessor',\n",
            "                 ColumnTransformer(transformers=[('num',\n",
            "                                                  Pipeline(steps=[('scaler',\n",
            "                                                                   StandardScaler())]),\n",
            "                                                  [3, 4]),\n",
            "                                                 ('cat',\n",
            "                                                  Pipeline(steps=[('onehot',\n",
            "                                                                   OneHotEncoder(handle_unknown='ignore'))]),\n",
            "                                                  [0, 1, 2])])),\n",
            "                ('regressor', LinearRegression())])\n"
          ]
        }
      ]
    },
    {
      "cell_type": "code",
      "source": [
        "predictions_linear = model.predict(x_test)\n",
        "print('prediction:', np.round(predictions_linear[:10]))\n",
        "print(\"actual:\", y_test[:10])\n",
        "mse = mean_squared_error(y_test, predictions_linear)\n",
        "print(\"MSE:\", mse)\n",
        "rmse = np.sqrt(mse)\n",
        "print(\"RMSE:\", rmse)\n",
        "r2 = r2_score(y_test, predictions_linear)\n",
        "print(\"R2:\", r2)"
      ],
      "metadata": {
        "colab": {
          "base_uri": "https://localhost:8080/"
        },
        "id": "V9BjZeQ9pHbH",
        "outputId": "52887f10-5cc6-4965-c5e8-5d71de56bc35"
      },
      "execution_count": null,
      "outputs": [
        {
          "output_type": "stream",
          "name": "stdout",
          "text": [
            "prediction: [36. 20. 46. 21. 36. 46. 40. 33. 46. 54.]\n",
            "actual: [45.3 14.4 46.  15.6 50.2 38.1 48.5 41.4 51.6 40.1]\n",
            "MSE: 68.98467843175332\n",
            "RMSE: 8.305701561683597\n",
            "R2: 0.602849335339261\n"
          ]
        }
      ]
    },
    {
      "cell_type": "code",
      "source": [
        "import joblib\n",
        "filename = './Real_estate.pkl'\n",
        "joblib.dump(model,filename)"
      ],
      "metadata": {
        "colab": {
          "base_uri": "https://localhost:8080/"
        },
        "id": "NvuPMZrGqR8p",
        "outputId": "031601e3-014f-437f-c287-97015cfccf5a"
      },
      "execution_count": null,
      "outputs": [
        {
          "output_type": "execute_result",
          "data": {
            "text/plain": [
              "['./Real_estate.pkl']"
            ]
          },
          "metadata": {},
          "execution_count": 25
        }
      ]
    },
    {
      "cell_type": "code",
      "source": [
        "loaded_model = joblib.load(filename)\n",
        "\n",
        "x_new = np.array([[32,84.87882,10,24.98298,121.54024]]).astype(\"float64\")\n",
        "\n",
        "print('X_new: {}'.format(list(x_new[0])))\n",
        "result = loaded_model.predict(x_new)\n",
        "print('prediction:{}'.format(np.round(result[0])))\n",
        "print(\"x_new : \", list(x_new[0]))\n",
        "print('prediction: ', np.round(result[0]))"
      ],
      "metadata": {
        "colab": {
          "base_uri": "https://localhost:8080/"
        },
        "id": "OYq06SXRs2YM",
        "outputId": "5b7d1902-f2d5-47e5-9c21-13709c1330d9"
      },
      "execution_count": null,
      "outputs": [
        {
          "output_type": "stream",
          "name": "stdout",
          "text": [
            "X_new: [32.0, 84.87882, 10.0, 24.98298, 121.54024]\n",
            "prediction:38.0\n",
            "x_new :  [32.0, 84.87882, 10.0, 24.98298, 121.54024]\n",
            "prediction:  38.0\n"
          ]
        }
      ]
    },
    {
      "cell_type": "code",
      "source": [
        "loaded_model = joblib.load(filename)\n",
        "\n",
        "x_new = np.array([[0,292.9978,6,24.97744,121.54024]]).astype(\"float64\")\n",
        "\n",
        "print('X_new: {}'.format(list(x_new[0])))\n",
        "result = loaded_model.predict(x_new)\n",
        "print('prediction:{}'.format(np.round(result[0])))\n",
        "\n"
      ],
      "metadata": {
        "colab": {
          "base_uri": "https://localhost:8080/"
        },
        "id": "T_twqz2Wt-aD",
        "outputId": "9c653754-9ae5-4e95-90bd-65c3f70700c4"
      },
      "execution_count": null,
      "outputs": [
        {
          "output_type": "stream",
          "name": "stdout",
          "text": [
            "X_new: [0.0, 292.9978, 6.0, 24.97744, 121.54024]\n",
            "prediction:69.0\n"
          ]
        }
      ]
    },
    {
      "cell_type": "code",
      "source": [
        ""
      ],
      "metadata": {
        "id": "Gg1yWOLHuRFC"
      },
      "execution_count": null,
      "outputs": []
    }
  ]
}